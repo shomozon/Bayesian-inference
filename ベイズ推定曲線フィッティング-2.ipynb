{
 "cells": [
  {
   "cell_type": "markdown",
   "metadata": {},
   "source": [
    "## よりベイズ的アプローチ"
   ]
  },
  {
   "cell_type": "markdown",
   "metadata": {},
   "source": [
    "新しいデータのxを予測する"
   ]
  },
  {
   "cell_type": "markdown",
   "metadata": {},
   "source": [
    "$$\n",
    "\\begin{eqnarray}\n",
    "    \\mathrm P(x_{0} | \\mathbf x) &=& \\int P(\\mu | \\mathbf x)\\mathcal N (x_{0} | \\mu , \\beta^{-1}) d \\mu \\\\\n",
    "    &=& \\int \\mathcal N (\\mu | \\mu_{N}, \\beta_{N}^{-1})\\mathcal N (x_{0} | \\mu , \\beta^{-1}) d \\mu \n",
    "\\end{eqnarray}\n",
    "$$"
   ]
  },
  {
   "cell_type": "markdown",
   "metadata": {},
   "source": [
    "---"
   ]
  },
  {
   "cell_type": "markdown",
   "metadata": {},
   "source": [
    "$$\n",
    "\\begin{eqnarray}\n",
    "    \\mathrm P &=& \\int_{-\\infty}^{\\infty} \\mathcal N (\\mu | \\mu_{N}, \\beta_{N}^{-1})\\mathcal N (x_{0} | \\mu , \\beta^{-1}) d \\mu \\\\\n",
    "    &=& \\frac{\\sqrt{\\beta_{N} \\beta}}{2 \\pi} \\int_{-\\infty}^{\\infty} \\exp \\left[ \\underbrace{-\\frac{\\beta_{N}}{2}(\\mu - \\mu_{N})^{2} -\\frac{\\beta}{2}(\\mu - x_{0})^{2}}_{\\mathrm I}\\right] d \\mu\n",
    "\\end{eqnarray}\n",
    "$$"
   ]
  },
  {
   "cell_type": "markdown",
   "metadata": {},
   "source": [
    "$$\n",
    "\\begin{eqnarray}\n",
    "    \\mathrm I &=& -\\frac{\\beta_{N}}{2}(\\mu - \\mu_{N})^{2} -\\frac{\\beta}{2}(\\mu - x_{0})^{2} \\\\\n",
    "    &=& -\\frac{\\beta_{N}}{2}(\\mu^{2} - 2\\mu\\mu_{N} + \\mu_{N}^{2}) -\\frac{\\beta}{2}(\\mu^{2} - 2\\mu x_{0} + x_{0}^{2}) \\\\\n",
    "    &=& -\\frac{\\beta_{N} + \\beta}{2}\\mu^{2} + (\\beta_{N}\\mu_{N} + \\beta x_{0})\\mu -\\frac{1}{2}(\\beta_{N}\\mu_{N}^{2} + \\beta x_{0}^{2}) \\\\\n",
    "    &=& -\\frac{\\beta_{N} + \\beta}{2}\\left\\{ \\mu - \\frac{\\beta_{N}\\mu_{N} + \\beta x_{0}}{\\beta_{N} + \\beta}\\right\\}^{2} + \\frac{(\\beta_{N}\\mu_{N} + \\beta x_{0})^{2}}{2(\\beta_{N} + \\beta)} -\\frac{1}{2}(\\beta_{N}\\mu_{N}^{2} + \\beta x_{0}^{2})\n",
    "\\end{eqnarray}\n",
    "$$"
   ]
  },
  {
   "cell_type": "markdown",
   "metadata": {},
   "source": [
    "$$\n",
    "    \\therefore \\mathrm P = \\frac{\\sqrt{\\beta_{N} \\beta}}{2 \\pi} \\exp \\left[ \\frac{(\\beta_{N}\\mu_{N} + \\beta x_{0})^{2}}{2(\\beta_{N} + \\beta)} -\\frac{1}{2}(\\beta_{N}\\mu_{N}^{2} + \\beta x_{0}^{2}) \\right] \\times \\underbrace{\\int_{-\\infty}^{\\infty} \\exp \\left[ -\\frac{\\beta_{N} + \\beta}{2}\\left\\{ \\mu - Const \\right\\}^{2} \\right] d\\mu}_{\\sqrt{\\frac{2\\pi}{\\beta_{N} + \\beta}}}\n",
    "$$"
   ]
  },
  {
   "cell_type": "markdown",
   "metadata": {},
   "source": [
    "$$\n",
    "    \\therefore ガウス積分 \\\\\n",
    "    \\int_{-\\infty}^{\\infty} e^{-\\alpha x^{2}} d x = \\sqrt{\\frac{\\pi}{\\alpha}} \\\\\n",
    "    拡張して　\\\\\n",
    "    \\int_{-\\infty}^{\\infty} \\exp \\left[ -(ax^{2} + bx + c) \\right] dx = \n",
    "    \\exp \\left[ \\frac{b^{2}}{4a} - c \\right] \\sqrt{\\frac{\\pi}{\\alpha}}\n",
    "$$"
   ]
  },
  {
   "cell_type": "markdown",
   "metadata": {},
   "source": [
    "よって、\n",
    "$$\n",
    "\\begin{eqnarray}\n",
    "    \\int_{-\\infty}^{\\infty} \\exp \\left[ -\\frac{\\beta_{N} + \\beta}{2}\\left\\{ \\mu - \\frac{\\beta_{N}\\mu_{N} + \\beta x_{0}}{\\beta_{N} + \\beta} \\right\\}^{2} \\right] d\\mu \n",
    "    &=&\n",
    "    \\int_{-\\infty}^{\\infty} \\exp \\left[ -\\left\\{ \\frac{\\beta_{N} + \\beta}{2}\\mu^{2} - (\\beta_{N}\\mu_{N} + \\beta x_{0})\\mu + \\frac{(\\beta_{N}\\mu_{N} + \\beta x_{0})^{2}}{2(\\beta_{N} + \\beta)} \\right\\} \\right] d \\mu \\\\\n",
    "    &=& \n",
    "    \\exp \\left[ \\frac{(\\beta_{N}\\mu_{N} + \\beta x_{0})^{2}}{2(\\beta_{N} + \\beta)} - \\frac{(\\beta_{N}\\mu_{N} + \\beta x_{0})^{2}}{2(\\beta_{N} + \\beta)} \\right] \\sqrt{\\frac{2\\pi}{\\beta_{N} + \\beta}} \\\\\n",
    "    &=&\n",
    "    \\sqrt{\\frac{2\\pi}{\\beta_{N} + \\beta}}\n",
    "\\end{eqnarray}\n",
    "$$"
   ]
  },
  {
   "cell_type": "markdown",
   "metadata": {},
   "source": [
    "$$\n",
    "    \\therefore \\mathrm P = Const \\ \\times \\ \\exp \\left[ \\underbrace{ \\frac{(\\beta_{N}\\mu_{N} + \\beta x_{0})^{2}}{2(\\beta_{N} + \\beta)} -\\frac{1}{2}(\\beta_{N}\\mu_{N}^{2} + \\beta x_{0}^{2})}_{\\mathrm J}\\right]\n",
    "$$"
   ]
  },
  {
   "cell_type": "markdown",
   "metadata": {},
   "source": [
    "$$\n",
    "\\begin{eqnarray}\n",
    "    \\mathrm J &=& \\frac{1}{2}\\left(\\underbrace{\\beta - \\frac{\\beta^{2}}{\\beta_{N} + \\beta}}_{\\frac{\\beta_{N}\\beta}{\\beta_{N} + \\beta}}\\right)x_{0}^{2} + \\frac{\\beta\\beta_{N}\\mu_{N}}{\\beta_{N} + \\beta}x_{0} + Const \\ (indep \\ of \\ x_{0}) \\\\\n",
    "    &=& -\\frac{\\beta_{N}\\beta}{2(\\beta_{N} + \\beta)}\\{ x_{0} - \\mu_{N} \\}^{2} + Const\\ (\\ indep \\ of \\ x_{0})\n",
    "\\end{eqnarray}\n",
    "$$"
   ]
  },
  {
   "cell_type": "markdown",
   "metadata": {},
   "source": [
    "$$\n",
    "    \\therefore \\mathrm P = Const \\ \\times \\ \\exp\\left[ -\\frac{\\left( \\frac{1}{\\beta} + \\frac{1}{\\beta_{N}} \\right)^{2}}{2} (x_{0} - \\mu_{N})^{2}\\right]\n",
    "$$"
   ]
  },
  {
   "cell_type": "markdown",
   "metadata": {},
   "source": [
    "$$\n",
    "    これは、\\mathrm Pが平均\\mu_{N}、分散(\\frac{1}{\\beta} + \\frac{1}{\\beta_{N}})の正規分布であることを示している。 \\\\\n",
    "    \\therefore \\mathrm P = \\mathcal N \\left(x_{0} | \\mu_{N}, \\left(\\frac{1}{\\beta} + \\frac{1}{\\beta_{N}}\\right)\\right)\n",
    "$$"
   ]
  },
  {
   "cell_type": "markdown",
   "metadata": {},
   "source": [
    "---"
   ]
  }
 ],
 "metadata": {
  "kernelspec": {
   "display_name": "Python 3",
   "language": "python",
   "name": "python3"
  },
  "language_info": {
   "codemirror_mode": {
    "name": "ipython",
    "version": 3
   },
   "file_extension": ".py",
   "mimetype": "text/x-python",
   "name": "python",
   "nbconvert_exporter": "python",
   "pygments_lexer": "ipython3",
   "version": "3.6.12"
  }
 },
 "nbformat": 4,
 "nbformat_minor": 4
}
