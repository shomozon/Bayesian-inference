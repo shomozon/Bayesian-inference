{
 "cells": [
  {
   "cell_type": "markdown",
   "metadata": {},
   "source": [
    "# ベイズ推定"
   ]
  },
  {
   "cell_type": "markdown",
   "metadata": {},
   "source": [
    "正規分布\n",
    "$$\n",
    "    \\mathcal N(x | \\mu , \\sigma^{2}) = \\frac{1}{\\sqrt{2\\pi \\sigma^{2}}}\n",
    "    \\exp\\left\\{ -\\frac{1}{2\\sigma^{2}}(x - \\mu)^{2}\\right\\}\n",
    "$$"
   ]
  },
  {
   "cell_type": "markdown",
   "metadata": {},
   "source": [
    "ベイズの定理\n",
    "$$\n",
    "    \\mathrm P(\\mu | \\mathbf x) = \\frac{\\mathrm P(\\mathbf x | \\mu) \\mathrm P(\\mu)}{\\mathrm P(\\mathbf x)} = \n",
    "    \\frac{\\mathrm P(\\mathbf x | \\mu)}{\\int_{\\mu} \\mathrm P(\\mathbf x | \\mu)} \\mathrm P(\\mu) \\quad \\cdots (1)\n",
    "$$"
   ]
  },
  {
   "cell_type": "markdown",
   "metadata": {},
   "source": [
    "尤度\n",
    "$$\n",
    "    \\mathrm P(\\mathbf x | \\mu) = \\prod_{ n=1 }^{N} \\mathcal N(x_{n} | \\mu, \\beta^{-1}) = \n",
    "    (\\frac{\\beta}{2\\pi})^{\\frac{1}{2}} \\exp\\{-\\frac{\\beta}{2} \\sum_{n=1}^{N} (x_{n} - \\mu)^{2}\\}\n",
    "$$"
   ]
  },
  {
   "cell_type": "markdown",
   "metadata": {},
   "source": [
    "事前確率\n",
    "$$\n",
    "    \\mathrm P(\\mu) = \\mathcal N(\\mu | \\mu_{0}, \\beta_{0}^{-1})\n",
    "$$"
   ]
  },
  {
   "cell_type": "markdown",
   "metadata": {},
   "source": [
    "(1)の分母はμには依存しない値なので、μの確率として、\n",
    "$$\n",
    "    \\mathrm P(\\mu | \\mathbf x) \\propto \\mathrm P(\\mathbf x | \\mu)\\mathrm P(\\mu) \\propto \n",
    "    \\exp\\{-\\frac{\\beta}{2} \\sum_{n=1}^{N} (x_{n} - \\mu)^{2} - \\frac{\\beta_{0}}{2}(\\mu - \\mu_{0})^{2} \\} \\quad \\cdots (2)\n",
    "$$"
   ]
  },
  {
   "cell_type": "markdown",
   "metadata": {},
   "source": [
    "(2)の値を最大にするμの値を見つける。\n",
    "$$\n",
    "\\begin{eqnarray}\n",
    "    -\\frac{\\beta}{2} \\sum_{n=1}^{N} (x_{n} - \\mu)^{2} - \\frac{\\beta_{0}}{2}(\\mu - \\mu_{0})^{2} &=&\n",
    "    -\\frac{1}{2}\\left[(N\\beta + \\beta_{0})\\mu^{2} - 2(\\beta \\sum_{n}^{N} x_{n} + \\beta_{0}\\mu_{0})\\mu + Const\\right] \\\\ &=&\n",
    "    -\\frac{1}{2}\\left[(N\\beta + \\beta_{0})\\left\\{ \\mu - \\frac{\\beta \\sum_{n}^{N} x_{n} + \\beta_{0}\\mu_{0}}{N\\beta + \\beta_{0}}\\right\\}^{2}  + Const \\right] \\\\\n",
    "\\end{eqnarray}\n",
    "$$"
   ]
  },
  {
   "cell_type": "markdown",
   "metadata": {},
   "source": [
    "$$\n",
    "    \\therefore \\mathrm P(\\mu | \\mathbf x) = Const  \\times  \\exp \n",
    "    \\left[\n",
    "        -\\frac{1}{2}\\underbrace{(N\\beta + \\beta_{0})}_{\\beta_{N}}\n",
    "        \\left\\{ \\mu - \\underbrace{\\frac{\\beta \\sum_{n}^{N} x_{n} + \\beta_{0}\\mu_{0}}{N\\beta + \\beta_{0}}}_{\\mu_{N}}\n",
    "        \\right\\}^{2}\n",
    "    \\right]\n",
    "$$"
   ]
  },
  {
   "cell_type": "markdown",
   "metadata": {},
   "source": [
    "$$\n",
    "    \\therefore \\mathrm P(\\mu | \\mathbf x) = \\mathcal N(\\mu | \\mu_{N}, \\beta_{N}^{-1})\n",
    "$$"
   ]
  },
  {
   "cell_type": "markdown",
   "metadata": {},
   "source": [
    "$$\n",
    "    \\mu_{N} = \\frac{\\beta \\frac{1}{N}\\sum_{n}^{N} x_{n} + \\beta_{0}\\mu_{0}\\frac{1}{N}}{\\frac{1}{N}(N\\beta + \\beta_{0})} =\n",
    "    \\frac{\\beta \\mu_{ML} + \\frac{\\beta_{0}}{N} \\mu_{0}}{\\beta + \\frac{\\beta_{0}}{N}} \\quad\n",
    "    (\\mu_{ML} = \\frac{1}{N} \\sum_{n=1}^{N} x_{n}) \\quad, \\quad \\beta_{N} = \\beta_{0} + N\\beta\n",
    "$$"
   ]
  },
  {
   "cell_type": "markdown",
   "metadata": {},
   "source": [
    "---"
   ]
  }
 ],
 "metadata": {
  "kernelspec": {
   "display_name": "Python 3",
   "language": "python",
   "name": "python3"
  },
  "language_info": {
   "codemirror_mode": {
    "name": "ipython",
    "version": 3
   },
   "file_extension": ".py",
   "mimetype": "text/x-python",
   "name": "python",
   "nbconvert_exporter": "python",
   "pygments_lexer": "ipython3",
   "version": "3.6.12"
  }
 },
 "nbformat": 4,
 "nbformat_minor": 4
}
